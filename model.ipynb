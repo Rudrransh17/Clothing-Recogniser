{
 "cells": [
  {
   "cell_type": "code",
   "execution_count": 1,
   "metadata": {
    "id": "uncterK6iiiX"
   },
   "outputs": [],
   "source": [
    "import tensorflow as tf\n",
    "import numpy as np\n",
    "import matplotlib.pyplot as plt\n",
    "import re"
   ]
  },
  {
   "cell_type": "code",
   "execution_count": 2,
   "metadata": {
    "id": "CpwtQzVxkHP9"
   },
   "outputs": [],
   "source": [
    "# Load the Fashion MNIST dataset\n",
    "fmnist = tf.keras.datasets.fashion_mnist"
   ]
  },
  {
   "cell_type": "code",
   "execution_count": 3,
   "metadata": {
    "colab": {
     "base_uri": "https://localhost:8080/"
    },
    "id": "ZCKC3nmHmF8c",
    "outputId": "069dba8b-6780-4799-a83a-f493cac3b3e2"
   },
   "outputs": [],
   "source": [
    "# Load the training and test split of the Fashion MNIST dataset\n",
    "(x_train, y_train), (x_test, y_test) = fmnist.load_data()"
   ]
  },
  {
   "cell_type": "code",
   "execution_count": 4,
   "metadata": {
    "colab": {
     "base_uri": "https://localhost:8080/",
     "height": 985
    },
    "id": "M6jGdbo9mXg_",
    "outputId": "edb900e6-f445-4a09-b957-ce42ace0936c"
   },
   "outputs": [
    {
     "name": "stdout",
     "output_type": "stream",
     "text": [
      "LABEL: 9\n",
      "\n",
      "IMAGE PIXEL ARRAY:\n",
      " [[  0   0   0   0   0   0   0   0   0   0   0   0   0   0   0   0   0   0   0   0   0   0   0   0   0   0   0   0]\n",
      " [  0   0   0   0   0   0   0   0   0   0   0   0   0   0   0   0   0   0   0   0   0   0   0   0   0   0   0   0]\n",
      " [  0   0   0   0   0   0   0   0   0   0   0   0   0   0   0   0   0   0   0   0   0   0   0   0   0   0   0   0]\n",
      " [  0   0   0   0   0   0   0   0   0   0   0   0   1   0   0  13  73   0   0   1   4   0   0   0   0   1   1   0]\n",
      " [  0   0   0   0   0   0   0   0   0   0   0   0   3   0  36 136 127  62  54   0   0   0   1   3   4   0   0   3]\n",
      " [  0   0   0   0   0   0   0   0   0   0   0   0   6   0 102 204 176 134 144 123  23   0   0   0   0  12  10   0]\n",
      " [  0   0   0   0   0   0   0   0   0   0   0   0   0   0 155 236 207 178 107 156 161 109  64  23  77 130  72  15]\n",
      " [  0   0   0   0   0   0   0   0   0   0   0   1   0  69 207 223 218 216 216 163 127 121 122 146 141  88 172  66]\n",
      " [  0   0   0   0   0   0   0   0   0   1   1   1   0 200 232 232 233 229 223 223 215 213 164 127 123 196 229   0]\n",
      " [  0   0   0   0   0   0   0   0   0   0   0   0   0 183 225 216 223 228 235 227 224 222 224 221 223 245 173   0]\n",
      " [  0   0   0   0   0   0   0   0   0   0   0   0   0 193 228 218 213 198 180 212 210 211 213 223 220 243 202   0]\n",
      " [  0   0   0   0   0   0   0   0   0   1   3   0  12 219 220 212 218 192 169 227 208 218 224 212 226 197 209  52]\n",
      " [  0   0   0   0   0   0   0   0   0   0   6   0  99 244 222 220 218 203 198 221 215 213 222 220 245 119 167  56]\n",
      " [  0   0   0   0   0   0   0   0   0   4   0   0  55 236 228 230 228 240 232 213 218 223 234 217 217 209  92   0]\n",
      " [  0   0   1   4   6   7   2   0   0   0   0   0 237 226 217 223 222 219 222 221 216 223 229 215 218 255  77   0]\n",
      " [  0   3   0   0   0   0   0   0   0  62 145 204 228 207 213 221 218 208 211 218 224 223 219 215 224 244 159   0]\n",
      " [  0   0   0   0  18  44  82 107 189 228 220 222 217 226 200 205 211 230 224 234 176 188 250 248 233 238 215   0]\n",
      " [  0  57 187 208 224 221 224 208 204 214 208 209 200 159 245 193 206 223 255 255 221 234 221 211 220 232 246   0]\n",
      " [  3 202 228 224 221 211 211 214 205 205 205 220 240  80 150 255 229 221 188 154 191 210 204 209 222 228 225   0]\n",
      " [ 98 233 198 210 222 229 229 234 249 220 194 215 217 241  65  73 106 117 168 219 221 215 217 223 223 224 229  29]\n",
      " [ 75 204 212 204 193 205 211 225 216 185 197 206 198 213 240 195 227 245 239 223 218 212 209 222 220 221 230  67]\n",
      " [ 48 203 183 194 213 197 185 190 194 192 202 214 219 221 220 236 225 216 199 206 186 181 177 172 181 205 206 115]\n",
      " [  0 122 219 193 179 171 183 196 204 210 213 207 211 210 200 196 194 191 195 191 198 192 176 156 167 177 210  92]\n",
      " [  0   0  74 189 212 191 175 172 175 181 185 188 189 188 193 198 204 209 210 210 211 188 188 194 192 216 170   0]\n",
      " [  2   0   0   0  66 200 222 237 239 242 246 243 244 221 220 193 191 179 182 182 181 176 166 168  99  58   0   0]\n",
      " [  0   0   0   0   0   0   0  40  61  44  72  41  35   0   0   0   0   0   0   0   0   0   0   0   0   0   0   0]\n",
      " [  0   0   0   0   0   0   0   0   0   0   0   0   0   0   0   0   0   0   0   0   0   0   0   0   0   0   0   0]\n",
      " [  0   0   0   0   0   0   0   0   0   0   0   0   0   0   0   0   0   0   0   0   0   0   0   0   0   0   0   0]]\n"
     ]
    },
    {
     "data": {
      "text/plain": [
       "<matplotlib.image.AxesImage at 0x2772e22c050>"
      ]
     },
     "execution_count": 4,
     "metadata": {},
     "output_type": "execute_result"
    },
    {
     "data": {
      "image/png": "[encoded data removed]",
      "text/plain": [
       "<Figure size 640x480 with 1 Axes>"
      ]
     },
     "metadata": {},
     "output_type": "display_data"
    }
   ],
   "source": [
    "# Put between 0 to 59999 here\n",
    "index = 0\n",
    "\n",
    "# Set number of characters per row when printing\n",
    "np.set_printoptions(linewidth=200)\n",
    "\n",
    "# Print the label and image\n",
    "print(f'LABEL: {y_train[index]}')\n",
    "print(f'\\nIMAGE PIXEL ARRAY:\\n {x_train[index]}')\n",
    "\n",
    "# Visualize the image\n",
    "plt.imshow(x_train[index])"
   ]
  },
  {
   "cell_type": "code",
   "execution_count": 5,
   "metadata": {
    "id": "H3WQ1b9zmZw_"
   },
   "outputs": [],
   "source": [
    "# Normalize the pixel values of the train and test images\n",
    "x_train  = x_train / 255.0\n",
    "x_test = x_test / 255.0"
   ]
  },
  {
   "cell_type": "code",
   "execution_count": 6,
   "metadata": {},
   "outputs": [],
   "source": [
    "class myCallback(tf.keras.callbacks.Callback):\n",
    "  def on_epoch_end(self, epoch, logs={}):\n",
    "    if(logs.get('accuracy') >= 0.95):\n",
    "      print(\"\\nReached 90% accuracy so cancelling training!\")\n",
    "      self.model.stop_training = True\n",
    "\n",
    "callbacks = myCallback()"
   ]
  },
  {
   "cell_type": "code",
   "execution_count": 7,
   "metadata": {},
   "outputs": [],
   "source": [
    "results = list()  # each item is a triplet of {neuron, epoch, accuracy}\n",
    "\n",
    "# Set the random seed for reproducibility\n",
    "np.random.seed(1)\n"
   ]
  },
  {
   "cell_type": "code",
   "execution_count": 8,
   "metadata": {
    "id": "sPZkFoYCneUx"
   },
   "outputs": [],
   "source": [
    "def trainModel(neuron, epoch):\n",
    "    print(f\"\\nTraining for {neuron} Neurons and {epoch} Epoch\\n\")\n",
    "    # Build the classification model\n",
    "    model = tf.keras.models.Sequential([tf.keras.layers.Flatten(), # Converts 28x28 into 784x1 array\n",
    "                                     tf.keras.layers.Dense(neuron, activation='relu'),\n",
    "                                     tf.keras.layers.Dense(10, activation='softmax')])\n",
    "    # Compile the model\n",
    "    model.compile(optimizer = 'adam',\n",
    "                  loss = 'sparse_categorical_crossentropy',\n",
    "                  metrics=['accuracy'])\n",
    "    # Train the model\n",
    "    model.fit(x_train, y_train, epochs=epoch)\n",
    "\n",
    "    # Save the model\n",
    "    model.save(f\"saved_models\\\\{neuron}N_{epoch}E.h5\")"
   ]
  },
  {
   "cell_type": "code",
   "execution_count": 9,
   "metadata": {},
   "outputs": [],
   "source": [
    "def evaluate(model_path):\n",
    "    # Extract the number of neurons\n",
    "    neuron = int(re.search(r\"\\\\(\\d+)N_\", model_path).group(1))\n",
    "    \n",
    "    # Extract the number of epochs\n",
    "    epoch = int(re.search(r\"_(\\d+)E\\.\", model_path).group(1))\n",
    "    \n",
    "    # Load the model\n",
    "    model = tf.keras.models.load_model(model_path)\n",
    "    \n",
    "    # Evaluate the model on unseen data\n",
    "    loss, accuracy = model.evaluate(x_test, y_test)\n",
    "    accuracy = round(accuracy,4)\n",
    "    \n",
    "    print(f\"Accuracy = {accuracy} for {neuron} Neurons and {epoch} Epoch\\n\")\n",
    "    results.append([neuron, epoch, accuracy])"
   ]
  },
  {
   "cell_type": "code",
   "execution_count": 10,
   "metadata": {},
   "outputs": [
    {
     "name": "stdout",
     "output_type": "stream",
     "text": [
      "\n",
      "Training for 128 Neurons and 5 Epoch\n",
      "\n",
      "Epoch 1/5\n",
      "1875/1875 [==============================] - 4s 2ms/step - loss: 0.5005 - accuracy: 0.8244\n",
      "Epoch 2/5\n",
      "1875/1875 [==============================] - 3s 1ms/step - loss: 0.3710 - accuracy: 0.8657\n",
      "Epoch 3/5\n",
      "1875/1875 [==============================] - 3s 1ms/step - loss: 0.3354 - accuracy: 0.8782\n",
      "Epoch 4/5\n",
      "1875/1875 [==============================] - 2s 1ms/step - loss: 0.3136 - accuracy: 0.8855\n",
      "Epoch 5/5\n",
      "1875/1875 [==============================] - 2s 1ms/step - loss: 0.2938 - accuracy: 0.8920\n",
      "\n",
      "Training for 256 Neurons and 5 Epoch\n",
      "\n",
      "Epoch 1/5\n",
      "1875/1875 [==============================] - 4s 2ms/step - loss: 0.4841 - accuracy: 0.8277\n",
      "Epoch 2/5\n",
      "1875/1875 [==============================] - 4s 2ms/step - loss: 0.3641 - accuracy: 0.8672\n",
      "Epoch 3/5\n",
      "1875/1875 [==============================] - 4s 2ms/step - loss: 0.3276 - accuracy: 0.8799\n",
      "Epoch 4/5\n",
      "1875/1875 [==============================] - 4s 2ms/step - loss: 0.3053 - accuracy: 0.8876\n",
      "Epoch 5/5\n",
      "1875/1875 [==============================] - 4s 2ms/step - loss: 0.2860 - accuracy: 0.8944\n",
      "\n",
      "Training for 512 Neurons and 5 Epoch\n",
      "\n",
      "Epoch 1/5\n",
      "1875/1875 [==============================] - 11s 6ms/step - loss: 0.4757 - accuracy: 0.8303\n",
      "Epoch 2/5\n",
      "1875/1875 [==============================] - 11s 6ms/step - loss: 0.3588 - accuracy: 0.8701\n",
      "Epoch 3/5\n",
      "1875/1875 [==============================] - 11s 6ms/step - loss: 0.3222 - accuracy: 0.8814\n",
      "Epoch 4/5\n",
      "1875/1875 [==============================] - 12s 6ms/step - loss: 0.2997 - accuracy: 0.8892\n",
      "Epoch 5/5\n",
      "1875/1875 [==============================] - 11s 6ms/step - loss: 0.2797 - accuracy: 0.8977\n",
      "\n",
      "Training for 1024 Neurons and 5 Epoch\n",
      "\n",
      "Epoch 1/5\n",
      "1875/1875 [==============================] - 24s 12ms/step - loss: 0.4724 - accuracy: 0.8301\n",
      "Epoch 2/5\n",
      "1875/1875 [==============================] - 24s 13ms/step - loss: 0.3580 - accuracy: 0.8687\n",
      "Epoch 3/5\n",
      "1875/1875 [==============================] - 24s 13ms/step - loss: 0.3205 - accuracy: 0.8810\n",
      "Epoch 4/5\n",
      "1875/1875 [==============================] - 23s 12ms/step - loss: 0.2959 - accuracy: 0.8891\n",
      "Epoch 5/5\n",
      "1875/1875 [==============================] - 23s 12ms/step - loss: 0.2791 - accuracy: 0.8956\n"
     ]
    }
   ],
   "source": [
    "for neuron in [128,256,512,1024]:\n",
    "    trainModel(neuron, 5)"
   ]
  },
  {
   "cell_type": "code",
   "execution_count": 15,
   "metadata": {},
   "outputs": [
    {
     "name": "stdout",
     "output_type": "stream",
     "text": [
      "\n",
      "Training for 128 Neurons from Epoch 5 to Epoch 10\n",
      "\n",
      "Epoch 1/5\n",
      "1875/1875 [==============================] - 3s 1ms/step - loss: 0.2800 - accuracy: 0.8962\n",
      "Epoch 2/5\n",
      "1875/1875 [==============================] - 2s 1ms/step - loss: 0.2659 - accuracy: 0.9019\n",
      "Epoch 3/5\n",
      "1875/1875 [==============================] - 3s 1ms/step - loss: 0.2572 - accuracy: 0.9050\n",
      "Epoch 4/5\n",
      "1875/1875 [==============================] - 3s 2ms/step - loss: 0.2473 - accuracy: 0.9080\n",
      "Epoch 5/5\n",
      "1875/1875 [==============================] - 3s 2ms/step - loss: 0.2397 - accuracy: 0.9097\n",
      "\n",
      "Training for 256 Neurons from Epoch 5 to Epoch 10\n",
      "\n",
      "Epoch 1/5\n",
      "1875/1875 [==============================] - 4s 2ms/step - loss: 0.2705 - accuracy: 0.8986\n",
      "Epoch 2/5\n",
      "1875/1875 [==============================] - 4s 2ms/step - loss: 0.2573 - accuracy: 0.9032\n",
      "Epoch 3/5\n",
      "1875/1875 [==============================] - 4s 2ms/step - loss: 0.2472 - accuracy: 0.9067\n",
      "Epoch 4/5\n",
      "1875/1875 [==============================] - 4s 2ms/step - loss: 0.2375 - accuracy: 0.9103\n",
      "Epoch 5/5\n",
      "1875/1875 [==============================] - 4s 2ms/step - loss: 0.2269 - accuracy: 0.9147\n",
      "\n",
      "Training for 512 Neurons from Epoch 5 to Epoch 10\n",
      "\n",
      "Epoch 1/5\n",
      "1875/1875 [==============================] - 12s 6ms/step - loss: 0.2671 - accuracy: 0.9014\n",
      "Epoch 2/5\n",
      "1875/1875 [==============================] - 11s 6ms/step - loss: 0.2539 - accuracy: 0.9046\n",
      "Epoch 3/5\n",
      "1875/1875 [==============================] - 11s 6ms/step - loss: 0.2419 - accuracy: 0.9102\n",
      "Epoch 4/5\n",
      "1875/1875 [==============================] - 11s 6ms/step - loss: 0.2335 - accuracy: 0.9111\n",
      "Epoch 5/5\n",
      "1875/1875 [==============================] - 11s 6ms/step - loss: 0.2211 - accuracy: 0.9169\n",
      "\n",
      "Training for 1024 Neurons from Epoch 5 to Epoch 10\n",
      "\n",
      "Epoch 1/5\n",
      "1875/1875 [==============================] - 24s 13ms/step - loss: 0.2619 - accuracy: 0.9019\n",
      "Epoch 2/5\n",
      "1875/1875 [==============================] - 23s 12ms/step - loss: 0.2535 - accuracy: 0.9052\n",
      "Epoch 3/5\n",
      "1875/1875 [==============================] - 23s 12ms/step - loss: 0.2377 - accuracy: 0.9105\n",
      "Epoch 4/5\n",
      "1875/1875 [==============================] - 23s 13ms/step - loss: 0.2318 - accuracy: 0.9137\n",
      "Epoch 5/5\n",
      "1875/1875 [==============================] - 24s 13ms/step - loss: 0.2190 - accuracy: 0.9181\n"
     ]
    }
   ],
   "source": [
    "for neuron in [128,256,512,1024]:\n",
    "    print(f\"\\nTraining for {neuron} Neurons from Epoch 5 to Epoch 10\\n\")\n",
    "    model = tf.keras.models.load_model(f'saved_models\\\\{neuron}N_5E.h5')\n",
    "    model.fit(x_train,y_train,epochs=5)\n",
    "    model.save(f'saved_models\\\\{neuron}N_10E.h5')"
   ]
  },
  {
   "cell_type": "code",
   "execution_count": 16,
   "metadata": {},
   "outputs": [
    {
     "name": "stdout",
     "output_type": "stream",
     "text": [
      "\n",
      "Training for 128 Neurons from Epoch 10 to Epoch 15\n",
      "\n",
      "Epoch 1/5\n",
      "1875/1875 [==============================] - 3s 2ms/step - loss: 0.2313 - accuracy: 0.9135\n",
      "Epoch 2/5\n",
      "1875/1875 [==============================] - 3s 2ms/step - loss: 0.2246 - accuracy: 0.9162\n",
      "Epoch 3/5\n",
      "1875/1875 [==============================] - 3s 1ms/step - loss: 0.2168 - accuracy: 0.9180\n",
      "Epoch 4/5\n",
      "1875/1875 [==============================] - 3s 1ms/step - loss: 0.2113 - accuracy: 0.9214\n",
      "Epoch 5/5\n",
      "1875/1875 [==============================] - 3s 2ms/step - loss: 0.2053 - accuracy: 0.9240\n",
      "\n",
      "Training for 256 Neurons from Epoch 10 to Epoch 15\n",
      "\n",
      "Epoch 1/5\n",
      "1875/1875 [==============================] - 4s 2ms/step - loss: 0.2204 - accuracy: 0.9169\n",
      "Epoch 2/5\n",
      "1875/1875 [==============================] - 4s 2ms/step - loss: 0.2126 - accuracy: 0.9195\n",
      "Epoch 3/5\n",
      "1875/1875 [==============================] - 4s 2ms/step - loss: 0.2052 - accuracy: 0.9226\n",
      "Epoch 4/5\n",
      "1875/1875 [==============================] - 4s 2ms/step - loss: 0.1985 - accuracy: 0.9254\n",
      "Epoch 5/5\n",
      "1875/1875 [==============================] - 4s 2ms/step - loss: 0.1927 - accuracy: 0.9278\n",
      "\n",
      "Training for 512 Neurons from Epoch 10 to Epoch 15\n",
      "\n",
      "Epoch 1/5\n",
      "1875/1875 [==============================] - 14s 7ms/step - loss: 0.2152 - accuracy: 0.9192\n",
      "Epoch 2/5\n",
      "1875/1875 [==============================] - 14s 7ms/step - loss: 0.2069 - accuracy: 0.9219\n",
      "Epoch 3/5\n",
      "1875/1875 [==============================] - 13s 7ms/step - loss: 0.2004 - accuracy: 0.9251\n",
      "Epoch 4/5\n",
      "1875/1875 [==============================] - 13s 7ms/step - loss: 0.1906 - accuracy: 0.9288\n",
      "Epoch 5/5\n",
      "1875/1875 [==============================] - 12s 6ms/step - loss: 0.1857 - accuracy: 0.9299\n",
      "\n",
      "Training for 1024 Neurons from Epoch 10 to Epoch 15\n",
      "\n",
      "Epoch 1/5\n",
      "1875/1875 [==============================] - 25s 13ms/step - loss: 0.2122 - accuracy: 0.9201\n",
      "Epoch 2/5\n",
      "1875/1875 [==============================] - 23s 12ms/step - loss: 0.2027 - accuracy: 0.9228\n",
      "Epoch 3/5\n",
      "1875/1875 [==============================] - 25s 13ms/step - loss: 0.1960 - accuracy: 0.9255\n",
      "Epoch 4/5\n",
      "1875/1875 [==============================] - 24s 13ms/step - loss: 0.1884 - accuracy: 0.9288\n",
      "Epoch 5/5\n",
      "1875/1875 [==============================] - 24s 13ms/step - loss: 0.1835 - accuracy: 0.9309\n"
     ]
    }
   ],
   "source": [
    "for neuron in [128,256,512,1024]:\n",
    "    print(f\"\\nTraining for {neuron} Neurons from Epoch 10 to Epoch 15\\n\")\n",
    "    model = tf.keras.models.load_model(f'saved_models\\\\{neuron}N_10E.h5')\n",
    "    model.fit(x_train,y_train,epochs=5)\n",
    "    model.save(f'saved_models\\\\{neuron}N_15E.h5')"
   ]
  },
  {
   "cell_type": "code",
   "execution_count": 17,
   "metadata": {},
   "outputs": [
    {
     "name": "stdout",
     "output_type": "stream",
     "text": [
      "\n",
      "Training for 128 Neurons from Epoch 15 to Epoch 20\n",
      "\n",
      "Epoch 1/5\n",
      "1875/1875 [==============================] - 3s 1ms/step - loss: 0.2002 - accuracy: 0.9246\n",
      "Epoch 2/5\n",
      "1875/1875 [==============================] - 2s 1ms/step - loss: 0.1949 - accuracy: 0.9265\n",
      "Epoch 3/5\n",
      "1875/1875 [==============================] - 3s 1ms/step - loss: 0.1888 - accuracy: 0.9294\n",
      "Epoch 4/5\n",
      "1875/1875 [==============================] - 2s 1ms/step - loss: 0.1845 - accuracy: 0.9306\n",
      "Epoch 5/5\n",
      "1875/1875 [==============================] - 3s 1ms/step - loss: 0.1805 - accuracy: 0.9320\n",
      "\n",
      "Training for 256 Neurons from Epoch 15 to Epoch 20\n",
      "\n",
      "Epoch 1/5\n",
      "1875/1875 [==============================] - 4s 2ms/step - loss: 0.1872 - accuracy: 0.9301\n",
      "Epoch 2/5\n",
      "1875/1875 [==============================] - 4s 2ms/step - loss: 0.1807 - accuracy: 0.9319\n",
      "Epoch 3/5\n",
      "1875/1875 [==============================] - 4s 2ms/step - loss: 0.1745 - accuracy: 0.9349\n",
      "Epoch 4/5\n",
      "1875/1875 [==============================] - 4s 2ms/step - loss: 0.1721 - accuracy: 0.9352\n",
      "Epoch 5/5\n",
      "1875/1875 [==============================] - 4s 2ms/step - loss: 0.1655 - accuracy: 0.9371\n",
      "\n",
      "Training for 512 Neurons from Epoch 15 to Epoch 20\n",
      "\n",
      "Epoch 1/5\n",
      "1875/1875 [==============================] - 11s 6ms/step - loss: 0.1796 - accuracy: 0.9316\n",
      "Epoch 2/5\n",
      "1875/1875 [==============================] - 12s 6ms/step - loss: 0.1750 - accuracy: 0.9345\n",
      "Epoch 3/5\n",
      "1875/1875 [==============================] - 12s 7ms/step - loss: 0.1675 - accuracy: 0.9367\n",
      "Epoch 4/5\n",
      "1875/1875 [==============================] - 13s 7ms/step - loss: 0.1647 - accuracy: 0.9383\n",
      "Epoch 5/5\n",
      "1875/1875 [==============================] - 11s 6ms/step - loss: 0.1580 - accuracy: 0.9403\n",
      "\n",
      "Training for 1024 Neurons from Epoch 15 to Epoch 20\n",
      "\n",
      "Epoch 1/5\n",
      "1875/1875 [==============================] - 22s 12ms/step - loss: 0.1785 - accuracy: 0.9329\n",
      "Epoch 2/5\n",
      "1875/1875 [==============================] - 23s 12ms/step - loss: 0.1711 - accuracy: 0.9348\n",
      "Epoch 3/5\n",
      "1875/1875 [==============================] - 23s 12ms/step - loss: 0.1668 - accuracy: 0.9369\n",
      "Epoch 4/5\n",
      "1875/1875 [==============================] - 25s 13ms/step - loss: 0.1633 - accuracy: 0.9381\n",
      "Epoch 5/5\n",
      "1875/1875 [==============================] - 22s 12ms/step - loss: 0.1573 - accuracy: 0.9406\n"
     ]
    }
   ],
   "source": [
    "for neuron in [128,256,512,1024]:\n",
    "    print(f\"\\nTraining for {neuron} Neurons from Epoch 15 to Epoch 20\\n\")\n",
    "    model = tf.keras.models.load_model(f'saved_models\\\\{neuron}N_15E.h5')\n",
    "    model.fit(x_train,y_train,epochs=5)\n",
    "    model.save(f'saved_models\\\\{neuron}N_20E.h5')"
   ]
  },
  {
   "cell_type": "code",
   "execution_count": 18,
   "metadata": {},
   "outputs": [
    {
     "name": "stdout",
     "output_type": "stream",
     "text": [
      "E:\\Projects\\Fashion Identifier\\saved_models\\1024N_10E.h5\n",
      "313/313 [==============================] - 1s 3ms/step - loss: 0.3430 - accuracy: 0.8798\n",
      "Accuracy = 0.8798 for 1024 Neurons and 10 Epoch\n",
      "\n",
      "E:\\Projects\\Fashion Identifier\\saved_models\\1024N_15E.h5\n",
      "313/313 [==============================] - 1s 3ms/step - loss: 0.3370 - accuracy: 0.8930\n",
      "Accuracy = 0.893 for 1024 Neurons and 15 Epoch\n",
      "\n",
      "E:\\Projects\\Fashion Identifier\\saved_models\\1024N_20E.h5\n",
      "313/313 [==============================] - 1s 2ms/step - loss: 0.3633 - accuracy: 0.8958\n",
      "Accuracy = 0.8958 for 1024 Neurons and 20 Epoch\n",
      "\n",
      "E:\\Projects\\Fashion Identifier\\saved_models\\1024N_5E.h5\n",
      "313/313 [==============================] - 1s 2ms/step - loss: 0.3599 - accuracy: 0.8701\n",
      "Accuracy = 0.8701 for 1024 Neurons and 5 Epoch\n",
      "\n",
      "E:\\Projects\\Fashion Identifier\\saved_models\\128N_10E.h5\n",
      "313/313 [==============================] - 0s 954us/step - loss: 0.3312 - accuracy: 0.8852\n",
      "Accuracy = 0.8852 for 128 Neurons and 10 Epoch\n",
      "\n",
      "E:\\Projects\\Fashion Identifier\\saved_models\\128N_15E.h5\n",
      "313/313 [==============================] - 0s 1ms/step - loss: 0.3465 - accuracy: 0.8842\n",
      "Accuracy = 0.8842 for 128 Neurons and 15 Epoch\n",
      "\n",
      "E:\\Projects\\Fashion Identifier\\saved_models\\128N_20E.h5\n",
      "313/313 [==============================] - 0s 981us/step - loss: 0.3553 - accuracy: 0.8854\n",
      "Accuracy = 0.8854 for 128 Neurons and 20 Epoch\n",
      "\n",
      "E:\\Projects\\Fashion Identifier\\saved_models\\128N_5E.h5\n",
      "313/313 [==============================] - 0s 1ms/step - loss: 0.3497 - accuracy: 0.8761\n",
      "Accuracy = 0.8761 for 128 Neurons and 5 Epoch\n",
      "\n",
      "E:\\Projects\\Fashion Identifier\\saved_models\\256N_10E.h5\n",
      "313/313 [==============================] - 0s 1ms/step - loss: 0.3464 - accuracy: 0.8802\n",
      "Accuracy = 0.8802 for 256 Neurons and 10 Epoch\n",
      "\n",
      "E:\\Projects\\Fashion Identifier\\saved_models\\256N_15E.h5\n",
      "313/313 [==============================] - 0s 1ms/step - loss: 0.3644 - accuracy: 0.8818\n",
      "Accuracy = 0.8818 for 256 Neurons and 15 Epoch\n",
      "\n",
      "E:\\Projects\\Fashion Identifier\\saved_models\\256N_20E.h5\n",
      "313/313 [==============================] - 0s 1ms/step - loss: 0.3563 - accuracy: 0.8924\n",
      "Accuracy = 0.8924 for 256 Neurons and 20 Epoch\n",
      "\n",
      "E:\\Projects\\Fashion Identifier\\saved_models\\256N_5E.h5\n",
      "313/313 [==============================] - 0s 1ms/step - loss: 0.3708 - accuracy: 0.8711\n",
      "Accuracy = 0.8711 for 256 Neurons and 5 Epoch\n",
      "\n",
      "E:\\Projects\\Fashion Identifier\\saved_models\\512N_10E.h5\n",
      "313/313 [==============================] - 1s 2ms/step - loss: 0.3519 - accuracy: 0.8838\n",
      "Accuracy = 0.8838 for 512 Neurons and 10 Epoch\n",
      "\n",
      "E:\\Projects\\Fashion Identifier\\saved_models\\512N_15E.h5\n",
      "313/313 [==============================] - 1s 2ms/step - loss: 0.3424 - accuracy: 0.8908\n",
      "Accuracy = 0.8908 for 512 Neurons and 15 Epoch\n",
      "\n",
      "E:\\Projects\\Fashion Identifier\\saved_models\\512N_20E.h5\n",
      "313/313 [==============================] - 1s 2ms/step - loss: 0.3754 - accuracy: 0.8899\n",
      "Accuracy = 0.8899 for 512 Neurons and 20 Epoch\n",
      "\n",
      "E:\\Projects\\Fashion Identifier\\saved_models\\512N_5E.h5\n",
      "313/313 [==============================] - 1s 2ms/step - loss: 0.3353 - accuracy: 0.8795\n",
      "Accuracy = 0.8795 for 512 Neurons and 5 Epoch\n",
      "\n"
     ]
    }
   ],
   "source": [
    "import os\n",
    "\n",
    "folder_path = \"E:\\Projects\\Fashion Identifier\\saved_models\"  # Replace with the path to your folder\n",
    "\n",
    "# Iterate through every file name inside the folder\n",
    "for filename in os.listdir(folder_path):\n",
    "    file_path = os.path.join(folder_path, filename)\n",
    "    print(file_path)\n",
    "    evaluate(file_path)"
   ]
  },
  {
   "cell_type": "code",
   "execution_count": 19,
   "metadata": {},
   "outputs": [
    {
     "name": "stdout",
     "output_type": "stream",
     "text": [
      "[1024, 10, 0.8798]\n",
      "[1024, 15, 0.893]\n",
      "[1024, 20, 0.8958]\n",
      "[1024, 5, 0.8701]\n",
      "[128, 10, 0.8852]\n",
      "[128, 15, 0.8842]\n",
      "[128, 20, 0.8854]\n",
      "[128, 5, 0.8761]\n",
      "[256, 10, 0.8802]\n",
      "[256, 15, 0.8818]\n",
      "[256, 20, 0.8924]\n",
      "[256, 5, 0.8711]\n",
      "[512, 10, 0.8838]\n",
      "[512, 15, 0.8908]\n",
      "[512, 20, 0.8899]\n",
      "[512, 5, 0.8795]\n"
     ]
    }
   ],
   "source": [
    "for i in results:\n",
    "    print(i)"
   ]
  },
  {
   "cell_type": "code",
   "execution_count": 52,
   "metadata": {},
   "outputs": [
    {
     "data": {
      "image/png": "[encoded data removed]",
      "text/plain": [
       "<Figure size 640x480 with 1 Axes>"
      ]
     },
     "metadata": {},
     "output_type": "display_data"
    }
   ],
   "source": [
    "neurons = list(set(result[0] for result in results))\n",
    "epochs = list(set(result[1] for result in results))\n",
    "neurons.sort()\n",
    "epochs.sort()\n",
    "\n",
    "fig, ax = plt.subplots()\n",
    "table_data = [[''] + epochs]\n",
    "for neuron in neurons:\n",
    "    row_data = [neuron]\n",
    "    for epoch in epochs:\n",
    "        matching_data = next((result[2] for result in results if result[0] == neuron and result[1] == epoch), None)\n",
    "        row_data.append(matching_data)\n",
    "    table_data.append(row_data)\n",
    "\n",
    "table = plt.table(cellText=table_data, loc='center', cellLoc='center')\n",
    "ax.axis('off')\n",
    "\n",
    "plt.show()"
   ]
  },
  {
   "cell_type": "markdown",
   "metadata": {},
   "source": [
    "#### Seeing effects of Conv2D and MaxPooling on a image "
   ]
  },
  {
   "cell_type": "code",
   "execution_count": 57,
   "metadata": {},
   "outputs": [
    {
     "data": {
      "text/plain": [
       "(28, 28)"
      ]
     },
     "execution_count": 57,
     "metadata": {},
     "output_type": "execute_result"
    }
   ],
   "source": [
    "x_train[0].shape"
   ]
  },
  {
   "cell_type": "code",
   "execution_count": 75,
   "metadata": {},
   "outputs": [
    {
     "name": "stdout",
     "output_type": "stream",
     "text": [
      "WARNING:tensorflow:6 out of the last 6 calls to <function Model.make_predict_function.<locals>.predict_function at 0x0000027752585800> triggered tf.function retracing. Tracing is expensive and the excessive number of tracings could be due to (1) creating @tf.function repeatedly in a loop, (2) passing tensors with different shapes, (3) passing Python objects instead of tensors. For (1), please define your @tf.function outside of the loop. For (2), @tf.function has reduce_retracing=True option that can avoid unnecessary retracing. For (3), please refer to https://www.tensorflow.org/guide/function#controlling_retracing and https://www.tensorflow.org/api_docs/python/tf/function for  more details.\n"
     ]
    },
    {
     "name": "stderr",
     "output_type": "stream",
     "text": [
      "WARNING:tensorflow:6 out of the last 6 calls to <function Model.make_predict_function.<locals>.predict_function at 0x0000027752585800> triggered tf.function retracing. Tracing is expensive and the excessive number of tracings could be due to (1) creating @tf.function repeatedly in a loop, (2) passing tensors with different shapes, (3) passing Python objects instead of tensors. For (1), please define your @tf.function outside of the loop. For (2), @tf.function has reduce_retracing=True option that can avoid unnecessary retracing. For (3), please refer to https://www.tensorflow.org/guide/function#controlling_retracing and https://www.tensorflow.org/api_docs/python/tf/function for  more details.\n"
     ]
    },
    {
     "name": "stdout",
     "output_type": "stream",
     "text": [
      "1/1 [==============================] - 0s 47ms/step\n"
     ]
    }
   ],
   "source": [
    "# Reshape the input array to match the expected input shape of Conv2D (height, width, channels)\n",
    "input_array = np.expand_dims(x_train[0]*255, axis=-1)\n",
    "\n",
    "# We are using 64 filters hence the image will be converted to 64 different images corresponding to each filter\n",
    "model_conv2d = tf.keras.models.Sequential(\n",
    "                tf.keras.layers.Conv2D(64,(3,3),activation = 'relu',input_shape = input_array.shape))\n",
    "\n",
    "\n",
    "output_conv2d = model_conv2d.predict(np.expand_dims(input_array, axis=0))\n"
   ]
  },
  {
   "cell_type": "code",
   "execution_count": 80,
   "metadata": {},
   "outputs": [
    {
     "data": {
      "text/plain": [
       "<matplotlib.image.AxesImage at 0x27752b33810>"
      ]
     },
     "execution_count": 80,
     "metadata": {},
     "output_type": "execute_result"
    },
    {
     "data": {
      "image/png": "[encoded data removed]",
      "text/plain": [
       "<Figure size 640x480 with 1 Axes>"
      ]
     },
     "metadata": {},
     "output_type": "display_data"
    }
   ],
   "source": [
    "# Visualize original image\n",
    "plt.imshow(x_train[0],cmap='gray')"
   ]
  },
  {
   "cell_type": "code",
   "execution_count": 93,
   "metadata": {},
   "outputs": [
    {
     "data": {
      "image/png": "[encoded data removed]",
      "text/plain": [
       "<Figure size 1000x1000 with 20 Axes>"
      ]
     },
     "metadata": {},
     "output_type": "display_data"
    }
   ],
   "source": [
    "# Plot 20 images from the Conv2D output in a grid of 4x5\n",
    "fig, axes = plt.subplots(4, 5, figsize=(10, 10))\n",
    "\n",
    "for i, ax in enumerate(axes.flatten()):\n",
    "    ax.imshow(output_conv2d[0, :, :, i], cmap='gray')\n",
    "    ax.set_title(f'Image {i+1}')\n",
    "    ax.axis('off')\n",
    "\n",
    "plt.tight_layout()\n",
    "plt.show()"
   ]
  },
  {
   "cell_type": "code",
   "execution_count": null,
   "metadata": {},
   "outputs": [],
   "source": []
  }
 ],
 "metadata": {
  "colab": {
   "provenance": []
  },
  "kernelspec": {
   "display_name": "tf",
   "language": "python",
   "name": "tf"
  },
  "language_info": {
   "codemirror_mode": {
    "name": "ipython",
    "version": 3
   },
   "file_extension": ".py",
   "mimetype": "text/x-python",
   "name": "python",
   "nbconvert_exporter": "python",
   "pygments_lexer": "ipython3",
   "version": "3.11.3"
  }
 },
 "nbformat": 4,
 "nbformat_minor": 1
}
